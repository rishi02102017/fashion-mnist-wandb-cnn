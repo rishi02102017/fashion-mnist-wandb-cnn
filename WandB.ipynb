{
  "nbformat": 4,
  "nbformat_minor": 0,
  "metadata": {
    "colab": {
      "provenance": [],
      "authorship_tag": "ABX9TyOkjmD8sODBmqJgHkbjOZUU",
      "include_colab_link": true
    },
    "kernelspec": {
      "name": "python3",
      "display_name": "Python 3"
    },
    "language_info": {
      "name": "python"
    }
  },
  "cells": [
    {
      "cell_type": "markdown",
      "metadata": {
        "id": "view-in-github",
        "colab_type": "text"
      },
      "source": [
        "<a href=\"https://colab.research.google.com/github/rishi02102017/fashion-mnist-wandb-cnn/blob/main/WandB.ipynb\" target=\"_parent\"><img src=\"https://colab.research.google.com/assets/colab-badge.svg\" alt=\"Open In Colab\"/></a>"
      ]
    },
    {
      "cell_type": "code",
      "source": [
        "!pip install -q wandb\n",
        "import wandb\n",
        "import torch\n",
        "import torch.nn as nn\n",
        "import torch.optim as optim\n",
        "from torch.utils.data import DataLoader, random_split\n",
        "from torchvision import datasets, transforms\n",
        "import torch.nn.functional as F\n",
        "\n",
        "wandb.login()"
      ],
      "metadata": {
        "colab": {
          "base_uri": "https://localhost:8080/"
        },
        "id": "v0JjdzpAZUv-",
        "outputId": "f62e8bce-ec59-4c92-b6d2-b13c7954e4fe"
      },
      "execution_count": 2,
      "outputs": [
        {
          "output_type": "stream",
          "name": "stderr",
          "text": [
            "\u001b[34m\u001b[1mwandb\u001b[0m: Using wandb-core as the SDK backend.  Please refer to https://wandb.me/wandb-core for more information.\n",
            "\u001b[34m\u001b[1mwandb\u001b[0m: Currently logged in as: \u001b[33mm24csa013\u001b[0m (\u001b[33mm24csa013-indian-institute-of-technology-jodhpur\u001b[0m) to \u001b[32mhttps://api.wandb.ai\u001b[0m. Use \u001b[1m`wandb login --relogin`\u001b[0m to force relogin\n"
          ]
        },
        {
          "output_type": "execute_result",
          "data": {
            "text/plain": [
              "True"
            ]
          },
          "metadata": {},
          "execution_count": 2
        }
      ]
    },
    {
      "cell_type": "code",
      "source": [
        "class FashionCNN(nn.Module):\n",
        "    def __init__(self, dropout_rate):\n",
        "        super(FashionCNN, self).__init__()\n",
        "        self.conv1 = nn.Conv2d(1, 32, 3)       # (28-3+1)=26\n",
        "        self.pool1 = nn.MaxPool2d(2, 2)        # 13x13\n",
        "        self.conv2 = nn.Conv2d(32, 64, 3)      # (13-3+1)=11\n",
        "        self.pool2 = nn.MaxPool2d(2, 2)        # 5x5\n",
        "        self.fc1 = nn.Linear(64 * 5 * 5, 128)\n",
        "        self.dropout = nn.Dropout(dropout_rate)\n",
        "        self.fc2 = nn.Linear(128, 10)\n",
        "\n",
        "    def forward(self, x):\n",
        "        x = self.pool1(F.relu(self.conv1(x)))\n",
        "        x = self.pool2(F.relu(self.conv2(x)))\n",
        "        x = x.view(-1, 64 * 5 * 5)\n",
        "        x = F.relu(self.fc1(x))\n",
        "        x = self.dropout(x)\n",
        "        return self.fc2(x)"
      ],
      "metadata": {
        "id": "DeMZr_URe9-4"
      },
      "execution_count": 3,
      "outputs": []
    },
    {
      "cell_type": "code",
      "source": [
        "def train(model, device, train_loader, optimizer, criterion, epoch):\n",
        "    model.train()\n",
        "    total_loss, correct = 0, 0\n",
        "    for data, target in train_loader:\n",
        "        data, target = data.to(device), target.to(device)\n",
        "        optimizer.zero_grad()\n",
        "        out = model(data)\n",
        "        loss = criterion(out, target)\n",
        "        loss.backward()\n",
        "        optimizer.step()\n",
        "        total_loss += loss.item()\n",
        "        pred = out.argmax(dim=1)\n",
        "        correct += pred.eq(target).sum().item()\n",
        "    return total_loss / len(train_loader), correct / len(train_loader.dataset)\n",
        "\n",
        "def validate(model, device, val_loader, criterion):\n",
        "    model.eval()\n",
        "    total_loss, correct = 0, 0\n",
        "    with torch.no_grad():\n",
        "        for data, target in val_loader:\n",
        "            data, target = data.to(device), target.to(device)\n",
        "            out = model(data)\n",
        "            loss = criterion(out, target)\n",
        "            total_loss += loss.item()\n",
        "            pred = out.argmax(dim=1)\n",
        "            correct += pred.eq(target).sum().item()\n",
        "    return total_loss / len(val_loader), correct / len(val_loader.dataset)"
      ],
      "metadata": {
        "id": "wpEcpgbif3oW"
      },
      "execution_count": 4,
      "outputs": []
    },
    {
      "cell_type": "code",
      "source": [
        "def main(config=None):\n",
        "    with wandb.init(config=config):\n",
        "        config = wandb.config\n",
        "\n",
        "        # Device\n",
        "        device = torch.device(\"cuda\" if torch.cuda.is_available() else \"cpu\")\n",
        "\n",
        "        # Dataset\n",
        "        transform = transforms.Compose([transforms.ToTensor()])\n",
        "        dataset = datasets.FashionMNIST(root=\"./data\", train=True, download=True, transform=transform)\n",
        "        train_size = int(0.8 * len(dataset))\n",
        "        val_size = len(dataset) - train_size\n",
        "        train_dataset, val_dataset = random_split(dataset, [train_size, val_size])\n",
        "\n",
        "        train_loader = DataLoader(train_dataset, batch_size=config.batch_size, shuffle=True)\n",
        "        val_loader = DataLoader(val_dataset, batch_size=config.batch_size)\n",
        "\n",
        "        # Model\n",
        "        model = FashionCNN(config.dropout_rate).to(device)\n",
        "        criterion = nn.CrossEntropyLoss()\n",
        "        optimizer = optim.Adam(model.parameters(), lr=config.learning_rate)\n",
        "\n",
        "        for epoch in range(config.epochs):\n",
        "            train_loss, train_acc = train(model, device, train_loader, optimizer, criterion, epoch)\n",
        "            val_loss, val_acc = validate(model, device, val_loader, criterion)\n",
        "\n",
        "            wandb.log({\n",
        "                \"epoch\": epoch + 1,\n",
        "                \"train_loss\": train_loss,\n",
        "                \"train_accuracy\": train_acc,\n",
        "                \"val_loss\": val_loss,\n",
        "                \"val_accuracy\": val_acc\n",
        "            })"
      ],
      "metadata": {
        "id": "xWcwB9uyf6pE"
      },
      "execution_count": 5,
      "outputs": []
    },
    {
      "cell_type": "code",
      "source": [
        "sweep_config = {\n",
        "    \"method\": \"random\",\n",
        "    \"metric\": {\n",
        "        \"name\": \"val_accuracy\",\n",
        "        \"goal\": \"maximize\"\n",
        "    },\n",
        "    \"parameters\": {\n",
        "        \"learning_rate\": {\n",
        "            \"values\": [0.01, 0.001, 0.0001]\n",
        "        },\n",
        "        \"batch_size\": {\n",
        "            \"values\": [32, 64, 128]\n",
        "        },\n",
        "        \"epochs\": {\n",
        "            \"values\": [5, 10, 15]\n",
        "        },\n",
        "        \"dropout_rate\": {\n",
        "            \"values\": [0.3, 0.5, 0.7]\n",
        "        }\n",
        "    }\n",
        "}"
      ],
      "metadata": {
        "id": "-zYaQSbXf-IO"
      },
      "execution_count": 6,
      "outputs": []
    },
    {
      "cell_type": "code",
      "source": [
        "sweep_id = wandb.sweep(sweep=sweep_config, project=\"fashion-mnist-classification\")\n",
        "\n",
        "wandb.agent(sweep_id, function=main, count=10)"
      ],
      "metadata": {
        "colab": {
          "base_uri": "https://localhost:8080/",
          "height": 1000
        },
        "id": "nlNYQJ6TgBmN",
        "outputId": "5712cec0-fcb6-4b43-aac3-62b231ccba53"
      },
      "execution_count": null,
      "outputs": [
        {
          "output_type": "stream",
          "name": "stdout",
          "text": [
            "Create sweep with ID: 5d9b43dv\n",
            "Sweep URL: https://wandb.ai/m24csa013-indian-institute-of-technology-jodhpur/fashion-mnist-classification/sweeps/5d9b43dv\n"
          ]
        },
        {
          "output_type": "stream",
          "name": "stderr",
          "text": [
            "\u001b[34m\u001b[1mwandb\u001b[0m: Agent Starting Run: sucu7xji with config:\n",
            "\u001b[34m\u001b[1mwandb\u001b[0m: \tbatch_size: 128\n",
            "\u001b[34m\u001b[1mwandb\u001b[0m: \tdropout_rate: 0.5\n",
            "\u001b[34m\u001b[1mwandb\u001b[0m: \tepochs: 5\n",
            "\u001b[34m\u001b[1mwandb\u001b[0m: \tlearning_rate: 0.01\n"
          ]
        },
        {
          "output_type": "display_data",
          "data": {
            "text/plain": [
              "<IPython.core.display.HTML object>"
            ],
            "text/html": [
              "Tracking run with wandb version 0.19.8"
            ]
          },
          "metadata": {}
        },
        {
          "output_type": "display_data",
          "data": {
            "text/plain": [
              "<IPython.core.display.HTML object>"
            ],
            "text/html": [
              "Run data is saved locally in <code>/content/wandb/run-20250328_064626-sucu7xji</code>"
            ]
          },
          "metadata": {}
        },
        {
          "output_type": "display_data",
          "data": {
            "text/plain": [
              "<IPython.core.display.HTML object>"
            ],
            "text/html": [
              "Syncing run <strong><a href='https://wandb.ai/m24csa013-indian-institute-of-technology-jodhpur/fashion-mnist-classification/runs/sucu7xji' target=\"_blank\">ancient-sweep-1</a></strong> to <a href='https://wandb.ai/m24csa013-indian-institute-of-technology-jodhpur/fashion-mnist-classification' target=\"_blank\">Weights & Biases</a> (<a href='https://wandb.me/developer-guide' target=\"_blank\">docs</a>)<br>Sweep page: <a href='https://wandb.ai/m24csa013-indian-institute-of-technology-jodhpur/fashion-mnist-classification/sweeps/5d9b43dv' target=\"_blank\">https://wandb.ai/m24csa013-indian-institute-of-technology-jodhpur/fashion-mnist-classification/sweeps/5d9b43dv</a>"
            ]
          },
          "metadata": {}
        },
        {
          "output_type": "display_data",
          "data": {
            "text/plain": [
              "<IPython.core.display.HTML object>"
            ],
            "text/html": [
              " View project at <a href='https://wandb.ai/m24csa013-indian-institute-of-technology-jodhpur/fashion-mnist-classification' target=\"_blank\">https://wandb.ai/m24csa013-indian-institute-of-technology-jodhpur/fashion-mnist-classification</a>"
            ]
          },
          "metadata": {}
        },
        {
          "output_type": "display_data",
          "data": {
            "text/plain": [
              "<IPython.core.display.HTML object>"
            ],
            "text/html": [
              " View sweep at <a href='https://wandb.ai/m24csa013-indian-institute-of-technology-jodhpur/fashion-mnist-classification/sweeps/5d9b43dv' target=\"_blank\">https://wandb.ai/m24csa013-indian-institute-of-technology-jodhpur/fashion-mnist-classification/sweeps/5d9b43dv</a>"
            ]
          },
          "metadata": {}
        },
        {
          "output_type": "display_data",
          "data": {
            "text/plain": [
              "<IPython.core.display.HTML object>"
            ],
            "text/html": [
              " View run at <a href='https://wandb.ai/m24csa013-indian-institute-of-technology-jodhpur/fashion-mnist-classification/runs/sucu7xji' target=\"_blank\">https://wandb.ai/m24csa013-indian-institute-of-technology-jodhpur/fashion-mnist-classification/runs/sucu7xji</a>"
            ]
          },
          "metadata": {}
        },
        {
          "output_type": "stream",
          "name": "stderr",
          "text": [
            "100%|██████████| 26.4M/26.4M [00:03<00:00, 8.39MB/s]\n",
            "100%|██████████| 29.5k/29.5k [00:00<00:00, 129kB/s]\n",
            "100%|██████████| 4.42M/4.42M [00:01<00:00, 2.48MB/s]\n",
            "100%|██████████| 5.15k/5.15k [00:00<00:00, 6.30MB/s]\n"
          ]
        },
        {
          "output_type": "display_data",
          "data": {
            "text/plain": [
              "<IPython.core.display.HTML object>"
            ],
            "text/html": []
          },
          "metadata": {}
        },
        {
          "output_type": "display_data",
          "data": {
            "text/plain": [
              "<IPython.core.display.HTML object>"
            ],
            "text/html": [
              "<br>    <style><br>        .wandb-row {<br>            display: flex;<br>            flex-direction: row;<br>            flex-wrap: wrap;<br>            justify-content: flex-start;<br>            width: 100%;<br>        }<br>        .wandb-col {<br>            display: flex;<br>            flex-direction: column;<br>            flex-basis: 100%;<br>            flex: 1;<br>            padding: 10px;<br>        }<br>    </style><br><div class=\"wandb-row\"><div class=\"wandb-col\"><h3>Run history:</h3><br/><table class=\"wandb\"><tr><td>epoch</td><td>▁▃▅▆█</td></tr><tr><td>train_accuracy</td><td>▁▆▇▇█</td></tr><tr><td>train_loss</td><td>█▃▂▁▁</td></tr><tr><td>val_accuracy</td><td>▁▅▆█▆</td></tr><tr><td>val_loss</td><td>█▃▃▁▂</td></tr></table><br/></div><div class=\"wandb-col\"><h3>Run summary:</h3><br/><table class=\"wandb\"><tr><td>epoch</td><td>5</td></tr><tr><td>train_accuracy</td><td>0.86696</td></tr><tr><td>train_loss</td><td>0.3607</td></tr><tr><td>val_accuracy</td><td>0.87367</td></tr><tr><td>val_loss</td><td>0.33148</td></tr></table><br/></div></div>"
            ]
          },
          "metadata": {}
        },
        {
          "output_type": "display_data",
          "data": {
            "text/plain": [
              "<IPython.core.display.HTML object>"
            ],
            "text/html": [
              " View run <strong style=\"color:#cdcd00\">ancient-sweep-1</strong> at: <a href='https://wandb.ai/m24csa013-indian-institute-of-technology-jodhpur/fashion-mnist-classification/runs/sucu7xji' target=\"_blank\">https://wandb.ai/m24csa013-indian-institute-of-technology-jodhpur/fashion-mnist-classification/runs/sucu7xji</a><br> View project at: <a href='https://wandb.ai/m24csa013-indian-institute-of-technology-jodhpur/fashion-mnist-classification' target=\"_blank\">https://wandb.ai/m24csa013-indian-institute-of-technology-jodhpur/fashion-mnist-classification</a><br>Synced 5 W&B file(s), 0 media file(s), 0 artifact file(s) and 0 other file(s)"
            ]
          },
          "metadata": {}
        },
        {
          "output_type": "display_data",
          "data": {
            "text/plain": [
              "<IPython.core.display.HTML object>"
            ],
            "text/html": [
              "Find logs at: <code>./wandb/run-20250328_064626-sucu7xji/logs</code>"
            ]
          },
          "metadata": {}
        },
        {
          "output_type": "stream",
          "name": "stderr",
          "text": [
            "\u001b[34m\u001b[1mwandb\u001b[0m: Agent Starting Run: h2k905be with config:\n",
            "\u001b[34m\u001b[1mwandb\u001b[0m: \tbatch_size: 128\n",
            "\u001b[34m\u001b[1mwandb\u001b[0m: \tdropout_rate: 0.5\n",
            "\u001b[34m\u001b[1mwandb\u001b[0m: \tepochs: 15\n",
            "\u001b[34m\u001b[1mwandb\u001b[0m: \tlearning_rate: 0.01\n"
          ]
        },
        {
          "output_type": "display_data",
          "data": {
            "text/plain": [
              "<IPython.core.display.HTML object>"
            ],
            "text/html": [
              "Tracking run with wandb version 0.19.8"
            ]
          },
          "metadata": {}
        },
        {
          "output_type": "display_data",
          "data": {
            "text/plain": [
              "<IPython.core.display.HTML object>"
            ],
            "text/html": [
              "Run data is saved locally in <code>/content/wandb/run-20250328_065055-h2k905be</code>"
            ]
          },
          "metadata": {}
        },
        {
          "output_type": "display_data",
          "data": {
            "text/plain": [
              "<IPython.core.display.HTML object>"
            ],
            "text/html": [
              "Syncing run <strong><a href='https://wandb.ai/m24csa013-indian-institute-of-technology-jodhpur/fashion-mnist-classification/runs/h2k905be' target=\"_blank\">smooth-sweep-2</a></strong> to <a href='https://wandb.ai/m24csa013-indian-institute-of-technology-jodhpur/fashion-mnist-classification' target=\"_blank\">Weights & Biases</a> (<a href='https://wandb.me/developer-guide' target=\"_blank\">docs</a>)<br>Sweep page: <a href='https://wandb.ai/m24csa013-indian-institute-of-technology-jodhpur/fashion-mnist-classification/sweeps/5d9b43dv' target=\"_blank\">https://wandb.ai/m24csa013-indian-institute-of-technology-jodhpur/fashion-mnist-classification/sweeps/5d9b43dv</a>"
            ]
          },
          "metadata": {}
        },
        {
          "output_type": "display_data",
          "data": {
            "text/plain": [
              "<IPython.core.display.HTML object>"
            ],
            "text/html": [
              " View project at <a href='https://wandb.ai/m24csa013-indian-institute-of-technology-jodhpur/fashion-mnist-classification' target=\"_blank\">https://wandb.ai/m24csa013-indian-institute-of-technology-jodhpur/fashion-mnist-classification</a>"
            ]
          },
          "metadata": {}
        },
        {
          "output_type": "display_data",
          "data": {
            "text/plain": [
              "<IPython.core.display.HTML object>"
            ],
            "text/html": [
              " View sweep at <a href='https://wandb.ai/m24csa013-indian-institute-of-technology-jodhpur/fashion-mnist-classification/sweeps/5d9b43dv' target=\"_blank\">https://wandb.ai/m24csa013-indian-institute-of-technology-jodhpur/fashion-mnist-classification/sweeps/5d9b43dv</a>"
            ]
          },
          "metadata": {}
        },
        {
          "output_type": "display_data",
          "data": {
            "text/plain": [
              "<IPython.core.display.HTML object>"
            ],
            "text/html": [
              " View run at <a href='https://wandb.ai/m24csa013-indian-institute-of-technology-jodhpur/fashion-mnist-classification/runs/h2k905be' target=\"_blank\">https://wandb.ai/m24csa013-indian-institute-of-technology-jodhpur/fashion-mnist-classification/runs/h2k905be</a>"
            ]
          },
          "metadata": {}
        }
      ]
    },
    {
      "cell_type": "code",
      "source": [],
      "metadata": {
        "id": "BZx4jJvJgHV_"
      },
      "execution_count": null,
      "outputs": []
    }
  ]
}